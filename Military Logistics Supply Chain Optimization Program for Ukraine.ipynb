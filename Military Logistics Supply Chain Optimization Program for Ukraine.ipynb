{
 "cells": [
  {
   "cell_type": "markdown",
   "id": "49953555-5ae3-49a9-b19d-0c7b7a69f24b",
   "metadata": {},
   "source": [
    "# Military Logistics Supply Chain Optimization Code Plan for Ukraine\n",
    "\n",
    "## 1. **Importing Required Libraries**\n",
    "   - **Libraries Used:**\n",
    "     - `pulp`: Linear programming for optimization.\n",
    "     - `matplotlib.pyplot`: Visualization for pie charts.\n",
    "     - `tkinter`: GUI for displaying results.\n",
    "     - `networkx`: For visualizing the transportation network.\n",
    "     - `folium`: For mapping geographical data.\n",
    "     - `IPython.display`: For viewing HTML files.\n",
    "     - **Type Hints:** Used to improve code readability and assist with type checking.\n",
    "\n",
    "## 2. **Data Setup**\n",
    "\n",
    "### 2.1 **Warehouse and Retailer Definitions**\n",
    "   - `military_warehouses`: List of warehouse names.\n",
    "   - `retailers`: List of retailers (cities) that require supplies.\n",
    "\n",
    "### 2.2 **Supply and Demand**\n",
    "   - `supply`: Dictionary mapping warehouses to the supply they can provide.\n",
    "   - `demand`: Dictionary mapping retailers to the demand they need.\n",
    "\n",
    "### 2.3 **Transportation Costs**\n",
    "   - `costs`: Dictionary defining the transportation cost between each warehouse and each retailer. The keys are tuples `(warehouse, retailer)` and values represent the cost.\n",
    "\n",
    "### 2.4 **Geographical Data**\n",
    "   - `data`: Contains the names, latitudes, and longitudes of the warehouses and retailers.\n",
    "\n",
    "## 3. **Modeling the Optimization Problem**\n",
    "\n",
    "### 3.1 **`create_model` Function**\n",
    "   - **Purpose**: Defines the optimization model using the `pulp` library.\n",
    "   - **Steps**:\n",
    "     - Create an instance of `pulp.LpProblem` for minimizing costs.\n",
    "     - Define shipping variables using `pulp.LpVariable` (represent the quantity shipped between warehouses and retailers).\n",
    "     - Set the objective function to minimize the total transportation cost.\n",
    "     - Add constraints:\n",
    "       - **Supply Constraint**: The total goods shipped from each warehouse should not exceed its available supply.\n",
    "       - **Demand Constraint**: The total goods received by each retailer must meet or exceed its demand.\n",
    "\n",
    "### 3.2 **`solve_model` Function**\n",
    "   - **Purpose**: Solves the optimization problem using `pulp.solve()`.\n",
    "\n",
    "## 4. **Displaying the Results**\n",
    "\n",
    "### 4.1 **`display_results` Function**\n",
    "   - **Purpose**: Displays the optimized solution in a GUI using `tkinter`.\n",
    "   - **Details**:\n",
    "     - Displays the shipping quantity between each warehouse and retailer if it's greater than 0.\n",
    "     - Shows the total transportation cost.\n",
    "\n",
    "## 5. **Visualizing the Shipping Quantities**\n",
    "\n",
    "### 5.1 **`visualize_shipping` Function**\n",
    "   - **Purpose**: Generates pie charts for each warehouse, showing the proportion of units shipped to each retailer.\n",
    "   - **Steps**:\n",
    "     - Gather shipping data for each warehouse.\n",
    "     - Plot pie charts using `matplotlib` for each warehouse, showing the percentage of goods shipped to different retailers.\n",
    "\n",
    "## 6. **Visualizing the Transportation Network**\n",
    "\n",
    "### 6.1 **`visualize_network` Function**\n",
    "   - **Purpose**: Uses `networkx` to represent the transportation network.\n",
    "   - **Steps**:\n",
    "     - Creates a directed graph where nodes represent warehouses and retailers, and edges represent shipments.\n",
    "     - Plots the network with weighted edges, where the weight corresponds to the shipping quantities.\n",
    "\n",
    "## 7. **Creating a Map with Shipping Routes**\n",
    "\n",
    "### 7.1 **`create_map` Function**\n",
    "   - **Purpose**: Uses `folium` to generate an interactive map showing the shipping routes between warehouses and retailers.\n",
    "   - **Details**:\n",
    "     - Warehouses and retailers are represented as markers.\n",
    "     - PolyLines represent the routes, with popup information showing the shipping cost.\n",
    "     - The map is saved as an HTML file.\n",
    "\n",
    "## 8. **Main Function and Execution**\n",
    "\n",
    "### 8.1 **`main` Function**\n",
    "   - **Purpose**: Ties all the functions together to execute the full pipeline.\n",
    "   - **Steps**:\n",
    "     - Creates and solves the optimization model.\n",
    "     - Displays the results in the GUI.\n",
    "     - Visualizes the shipping quantities using pie charts.\n",
    "     - Visualizes the transportation network.\n",
    "     - Creates and saves the map with shipping routes.\n",
    "\n",
    "### 8.2 **Execution**\n",
    "   - If the script is run directly (`if __name__ == \"__main__\":`), the `main()` function is called to execute the entire process.\n"
   ]
  },
  {
   "cell_type": "markdown",
   "id": "6b6c576f-1f9d-4a3a-95fb-849e7c20c110",
   "metadata": {},
   "source": [
    "# Military Logistics Supply Chain Optimization Program for Ukraine"
   ]
  },
  {
   "cell_type": "markdown",
   "id": "33456063-cc0f-4361-a15b-7f7a55f1cf78",
   "metadata": {},
   "source": [
    "## 1. Importing Required Libraries"
   ]
  },
  {
   "cell_type": "code",
   "execution_count": 34,
   "id": "651df502-d0b3-4f2b-8a7a-43bf1d148a1e",
   "metadata": {},
   "outputs": [],
   "source": [
    "import pulp\n",
    "import matplotlib.pyplot as plt\n",
    "import tkinter as tk\n",
    "import networkx as nx\n",
    "from typing import Dict, List, Tuple\n",
    "import folium\n",
    "from IPython.display import IFrame, HTML"
   ]
  },
  {
   "cell_type": "markdown",
   "id": "f95aea29-930a-4099-ab9b-e9b5f5aa1a53",
   "metadata": {},
   "source": [
    "## 2. Data Setup"
   ]
  },
  {
   "cell_type": "markdown",
   "id": "49987ccf-e554-4687-bea6-b29a6d59357b",
   "metadata": {},
   "source": [
    "### 2.1 Warehouse and Retailer Definitions\n",
    "   - `military_warehouses`: List of warehouse names.\n",
    "   - `retailers`: List of retailers (cities) that require supplies."
   ]
  },
  {
   "cell_type": "code",
   "execution_count": 3,
   "id": "ab62959b-3d18-4f33-b22c-854121ce77ae",
   "metadata": {},
   "outputs": [],
   "source": [
    "military_warehouses: List[str] = ['Warehouse1', 'Warehouse2', 'Warehouse3', 'Warehouse4', 'Warehouse5']\n",
    "retailers: List[str] = [\n",
    "    'Mykolaiv', 'Kherson', 'Kharkiv', 'Zaporizhzhia',\n",
    "    'Kramatorsk', 'Pavlohrad', 'Izyum', 'Dnipro'\n",
    "]"
   ]
  },
  {
   "cell_type": "markdown",
   "id": "a1af6517-ca3f-431a-9382-25432d8be846",
   "metadata": {},
   "source": [
    "### 2.2 **Supply and Demand**\n",
    "   - `supply`: Dictionary mapping warehouses to the supply they can provide.\n",
    "   - `demand`: Dictionary mapping retailers to the demand they need."
   ]
  },
  {
   "cell_type": "code",
   "execution_count": 4,
   "id": "dfb99b23-d48e-458a-b4bd-9d34f768d74e",
   "metadata": {},
   "outputs": [],
   "source": [
    "supply: Dict[str, int] = {\n",
    "    'Warehouse1': 100,\n",
    "    'Warehouse2': 150,\n",
    "    'Warehouse3': 200,\n",
    "    'Warehouse4': 250,\n",
    "    'Warehouse5': 300\n",
    "}\n",
    "\n",
    "demand: Dict[str, int] = {\n",
    "    'Mykolaiv': 80,\n",
    "    'Kherson': 70,\n",
    "    'Kharkiv': 90,\n",
    "    'Zaporizhzhia': 110,\n",
    "    'Kramatorsk': 120,\n",
    "    'Pavlohrad': 100,\n",
    "    'Izyum': 140,\n",
    "    'Dnipro': 130\n",
    "}"
   ]
  },
  {
   "cell_type": "markdown",
   "id": "8ec21306-ce80-43b2-a108-c93b2d8cb99f",
   "metadata": {},
   "source": [
    "### 2.3 **Transportation Costs**\n",
    "   - `costs`: Dictionary defining the transportation cost between each warehouse and each retailer. The keys are tuples `(warehouse, retailer)` and values represent the cost."
   ]
  },
  {
   "cell_type": "code",
   "execution_count": 8,
   "id": "1b22c63a-4fef-4c81-b94a-58e543972a33",
   "metadata": {},
   "outputs": [],
   "source": [
    "costs: Dict[Tuple[str, str], int] = {\n",
    "    ('Warehouse1', 'Mykolaiv'): 2,\n",
    "    ('Warehouse1', 'Kherson'): 3,\n",
    "    ('Warehouse1', 'Kharkiv'): 1,\n",
    "    ('Warehouse1', 'Zaporizhzhia'): 4,\n",
    "    ('Warehouse1', 'Kramatorsk'): 5,\n",
    "    ('Warehouse1', 'Pavlohrad'): 6,\n",
    "    ('Warehouse1', 'Izyum'): 7,\n",
    "    ('Warehouse1', 'Dnipro'): 8,\n",
    "    ('Warehouse2', 'Mykolaiv'): 3,\n",
    "    ('Warehouse2', 'Kherson'): 1,\n",
    "    ('Warehouse2', 'Kharkiv'): 2,\n",
    "    ('Warehouse2', 'Zaporizhzhia'): 5,\n",
    "    ('Warehouse2', 'Kramatorsk'): 4,\n",
    "    ('Warehouse2', 'Pavlohrad'): 3,\n",
    "    ('Warehouse2', 'Izyum'): 6,\n",
    "    ('Warehouse2', 'Dnipro'): 4,\n",
    "    ('Warehouse3', 'Mykolaiv'): 4,\n",
    "    ('Warehouse3', 'Kherson'): 2,\n",
    "    ('Warehouse3', 'Kharkiv'): 3,\n",
    "    ('Warehouse3', 'Zaporizhzhia'): 1,\n",
    "    ('Warehouse3', 'Kramatorsk'): 5,\n",
    "    ('Warehouse3', 'Pavlohrad'): 4,\n",
    "    ('Warehouse3', 'Izyum'): 2,\n",
    "    ('Warehouse3', 'Dnipro'): 3,\n",
    "    ('Warehouse4', 'Mykolaiv'): 3,\n",
    "    ('Warehouse4', 'Kherson'): 4,\n",
    "    ('Warehouse4', 'Kharkiv'): 5,\n",
    "    ('Warehouse4', 'Zaporizhzhia'): 2,\n",
    "    ('Warehouse4', 'Kramatorsk'): 1,\n",
    "    ('Warehouse4', 'Pavlohrad'): 3,\n",
    "    ('Warehouse4', 'Izyum'): 4,\n",
    "    ('Warehouse4', 'Dnipro'): 5,\n",
    "    ('Warehouse5', 'Mykolaiv'): 6,\n",
    "    ('Warehouse5', 'Kherson'): 5,\n",
    "    ('Warehouse5', 'Kharkiv'): 4,\n",
    "    ('Warehouse5', 'Zaporizhzhia'): 3,\n",
    "    ('Warehouse5', 'Kramatorsk'): 2,\n",
    "    ('Warehouse5', 'Pavlohrad'): 6,\n",
    "    ('Warehouse5', 'Izyum'): 7,\n",
    "    ('Warehouse5', 'Dnipro'): 8\n",
    "}"
   ]
  },
  {
   "cell_type": "markdown",
   "id": "622a0a8a-aa6e-4d88-9ca1-5d59a2e84b6b",
   "metadata": {},
   "source": [
    "### 2.4 **Geographical Data**\n",
    "   - `data`: Contains the names, latitudes, and longitudes of the warehouses and retailers."
   ]
  },
  {
   "cell_type": "code",
   "execution_count": 9,
   "id": "d097d418-fc90-4dc1-a5ae-d9067be57dea",
   "metadata": {},
   "outputs": [],
   "source": [
    "data = {\n",
    "    'Name': [\n",
    "        'Warehouse1', 'Warehouse2', 'Warehouse3', 'Warehouse4', 'Warehouse5',\n",
    "        'Mykolaiv', 'Kherson', 'Kharkiv',\n",
    "        'Zaporizhzhia', 'Kramatorsk', 'Pavlohrad', 'Izyum', 'Dnipro'\n",
    "    ],\n",
    "    'Latitude': [\n",
    "        47.1, 46.8, 48.5, 48.9, 48.6,  # Coordinates for Warehouses (can be adjusted)\n",
    "        46.9659, 46.6354, 50.0048, 47.8388, 48.7200, 48.5351, 49.2085, 48.4647  # Accurate coords for cities\n",
    "    ],\n",
    "    'Longitude': [\n",
    "        32.0, 32.4, 35.5, 35.8, 37.1,  # Coordinates for Warehouses (can be adjusted)\n",
    "        32.0026, 32.6178, 36.2319, 35.1396, 37.5556, 35.8690, 37.2484, 35.0462  # Accurate coords for cities\n",
    "    ]\n",
    "}"
   ]
  },
  {
   "cell_type": "markdown",
   "id": "46ae7af6-b7be-4e38-b69a-9112b0d9a95f",
   "metadata": {},
   "source": [
    "## 3. **Modeling the Optimization Problem**"
   ]
  },
  {
   "cell_type": "markdown",
   "id": "043188e5-ab42-44a9-964d-5f38522555ed",
   "metadata": {},
   "source": [
    "### 3.1 **`create_model` Function**\n",
    "   - **Purpose**: Defines the optimization model using the `pulp` library.\n",
    "   - **Steps**:\n",
    "     - Create an instance of `pulp.LpProblem` for minimizing costs.\n",
    "     - Define shipping variables using `pulp.LpVariable` (represent the quantity shipped between warehouses and retailers).\n",
    "     - Set the objective function to minimize the total transportation cost.\n",
    "     - Add constraints:\n",
    "       - **Supply Constraint**: The total goods shipped from each warehouse should not exceed its available supply.\n",
    "       - **Demand Constraint**: The total goods received by each retailer must meet or exceed its demand."
   ]
  },
  {
   "cell_type": "code",
   "execution_count": 11,
   "id": "00f3b3c3-4dcd-48da-9ac5-9761392ff8f9",
   "metadata": {},
   "outputs": [],
   "source": [
    "def create_model() -> pulp.LpProblem:\n",
    "    model = pulp.LpProblem(\"Supply_Chain_Optimization\", pulp.LpMinimize)\n",
    "\n",
    "    shipping_vars = pulp.LpVariable.dicts(\"Shipping\", (military_warehouses, retailers), lowBound=0, cat='Continuous')\n",
    "\n",
    "    model += pulp.lpSum(\n",
    "        costs[w, r] * shipping_vars[w][r] for w in military_warehouses for r in retailers), \"Total_Transportation_Cost\"\n",
    "\n",
    "    for w in military_warehouses:\n",
    "        model += pulp.lpSum(shipping_vars[w][r] for r in retailers) <= supply[w], f\"Supply_Constraint_{w}\"\n",
    "\n",
    "    for r in retailers:\n",
    "        model += pulp.lpSum(shipping_vars[w][r] for w in military_warehouses) >= demand[r], f\"Demand_Constraint_{r}\"\n",
    "\n",
    "    return model, shipping_vars"
   ]
  },
  {
   "cell_type": "markdown",
   "id": "c47b7b35-94d0-4d2b-89b9-81de3c4f69ca",
   "metadata": {},
   "source": [
    "### 3.2 **`solve_model` Function**\n",
    "   - **Purpose**: Solves the optimization problem using `pulp.solve()`."
   ]
  },
  {
   "cell_type": "code",
   "execution_count": 12,
   "id": "2a3bc7da-7657-40c5-a7c2-d22975028182",
   "metadata": {},
   "outputs": [],
   "source": [
    "def solve_model(model: pulp.LpProblem):\n",
    "    model.solve()"
   ]
  },
  {
   "cell_type": "markdown",
   "id": "eb2dc882-fa7d-4ea0-afcd-54e2351b60aa",
   "metadata": {},
   "source": [
    "## 4. **Displaying the Results**"
   ]
  },
  {
   "cell_type": "markdown",
   "id": "62fc3387-6967-4f46-a13a-fdfb6104be6e",
   "metadata": {},
   "source": [
    "### 4.1 **`display_results` Function**\n",
    "   - **Purpose**: Displays the optimized solution in a GUI using `tkinter`.\n",
    "   - **Details**:\n",
    "     - Displays the shipping quantity between each warehouse and retailer if it's greater than 0.\n",
    "     - Shows the total transportation cost."
   ]
  },
  {
   "cell_type": "code",
   "execution_count": 19,
   "id": "146af8dc-641a-41d7-a67c-7e6471e7c1f9",
   "metadata": {},
   "outputs": [],
   "source": [
    "def display_results(model: pulp.LpProblem, shipping_vars: Dict[str, Dict[str, pulp.LpVariable]]):\n",
    "    root = tk.Tk()\n",
    "    root.title(\"Transportation Problem Results\")\n",
    "\n",
    "    output_text = tk.Text(root, wrap=tk.WORD, width=50, height=20)\n",
    "    output_text.pack(pady=10)\n",
    "\n",
    "    output_text.insert(tk.END, f\"Status: {pulp.LpStatus[model.status]}\\n\")\n",
    "\n",
    "    for w in military_warehouses:\n",
    "        for r in retailers:\n",
    "            if shipping_vars[w][r].varValue > 0:\n",
    "                output_text.insert(tk.END, f\"Ship {shipping_vars[w][r].varValue} units from {w} to {r}\\n\")\n",
    "\n",
    "    total_cost = pulp.value(model.objective)\n",
    "    output_text.insert(tk.END, f\"Total Transportation Cost: {total_cost}\\n\")\n",
    "    print(f\"Total Transportation Cost: {total_cost}\")  \n"
   ]
  },
  {
   "cell_type": "markdown",
   "id": "7218faad-b71d-4c7b-8fa0-1390ca01f40b",
   "metadata": {},
   "source": [
    "<div style=\"text-align: center;\">\n",
    "    <p>This image illustrates the logistics involved in military supply chain optimization in Ukraine based on the test example data.</p>\n",
    "    <img src=\"pictures/text_result.png\" alt=\"Military Logistics Image\" style=\"max-width: 100%; height: auto;\"/>\n",
    "</div>\n",
    "\n"
   ]
  },
  {
   "cell_type": "markdown",
   "id": "8a897643-e292-48a6-8005-b10470fc3de8",
   "metadata": {},
   "source": [
    "## 5. **Visualizing the Shipping Quantities**"
   ]
  },
  {
   "cell_type": "markdown",
   "id": "118720ed-5d14-4b6e-b50a-ab7b6185a5f1",
   "metadata": {},
   "source": [
    "### 5.1 **`visualize_shipping` Function**\n",
    "   - **Purpose**: Generates pie charts for each warehouse, showing the proportion of units shipped to each retailer.\n",
    "   - **Steps**:\n",
    "     - Gather shipping data for each warehouse.\n",
    "     - Plot pie charts using `matplotlib` for each warehouse, showing the percentage of goods shipped to different retailers."
   ]
  },
  {
   "cell_type": "code",
   "execution_count": 23,
   "id": "2f6ecf84-0b13-46a4-94ee-f66ec6d52418",
   "metadata": {},
   "outputs": [],
   "source": [
    "def visualize_shipping(shipping_vars: Dict[str, Dict[str, pulp.LpVariable]]):\n",
    "    shipping_data = {}\n",
    "    for w in military_warehouses:\n",
    "        shipping_data[w] = []\n",
    "        for r in retailers:\n",
    "            if shipping_vars[w][r].varValue > 0:\n",
    "                shipping_data[w].append(shipping_vars[w][r].varValue)\n",
    "            else:\n",
    "                shipping_data[w].append(0)\n",
    "\n",
    "    num_warehouses = len(military_warehouses)\n",
    "    fig, axes = plt.subplots(1, num_warehouses, figsize=(5 * num_warehouses, 5))\n",
    "\n",
    "    for i, w in enumerate(military_warehouses):\n",
    "        shipments = shipping_data[w]\n",
    "        retailers_with_shipments = [r for r, s in zip(retailers, shipments) if s > 0]\n",
    "        shipment_values = [s for s in shipments if s > 0]\n",
    "\n",
    "        axes[i].pie(shipment_values, labels=retailers_with_shipments, autopct='%1.1f%%', startangle=90)\n",
    "        axes[i].set_title(f'Units Shipped from {w}')\n",
    "        axes[i].axis('equal')  # Ensures pie is a circle\n",
    "\n",
    "    plt.tight_layout()\n",
    "    plt.show()"
   ]
  },
  {
   "cell_type": "markdown",
   "id": "d97d97d3-a94a-4df4-82b4-cfe65534c131",
   "metadata": {},
   "source": [
    "<div style=\"text-align: center;\">\n",
    "        <p style=\"font-size: 16px; margin-top: 10px;\">This image displays the distribution of warehouses to each military base, represented through pie charts for a test data example. It provides a visual representation of the logistics involved in military supply chain optimization. The following results are based on our supply chain optimization model utilizing the test example data.</p>\n",
    "    <img src=\"pictures/pie_chart_result.png\" alt=\"Military Logistics Distribution\" style=\"max-width: 80%; height: auto;\"/>\n",
    "</div>\n",
    "\n"
   ]
  },
  {
   "cell_type": "markdown",
   "id": "8c0c7ef2-99db-46ed-ac58-03363f347601",
   "metadata": {},
   "source": [
    "## 6. **Visualizing the Transportation Network**"
   ]
  },
  {
   "cell_type": "markdown",
   "id": "2bf33ee1-b666-46ce-b71c-67640e12f551",
   "metadata": {},
   "source": [
    "### 6.1 **`visualize_network` Function**\n",
    "   - **Purpose**: Uses `networkx` to represent the transportation network.\n",
    "   - **Steps**:\n",
    "     - Creates a directed graph where nodes represent warehouses and retailers, and edges represent shipments.\n",
    "     - Plots the network with weighted edges, where the weight corresponds to the shipping quantities."
   ]
  },
  {
   "cell_type": "code",
   "execution_count": 27,
   "id": "95dd71ac-dbda-4cb5-93d1-aa827246e268",
   "metadata": {},
   "outputs": [],
   "source": [
    "def visualize_network(shipping_vars: Dict[str, Dict[str, pulp.LpVariable]]):\n",
    "    G = nx.DiGraph()\n",
    "\n",
    "    for w in military_warehouses:\n",
    "        G.add_node(w, type='warehouse')\n",
    "    for r in retailers:\n",
    "        G.add_node(r, type='retailer')\n",
    "\n",
    "    for w in military_warehouses:\n",
    "        for r in retailers:\n",
    "            if shipping_vars[w][r].varValue > 0:\n",
    "                G.add_edge(w, r, weight=shipping_vars[w][r].varValue)\n",
    "\n",
    "    pos = nx.spring_layout(G)\n",
    "\n",
    "    nx.draw(G, pos, with_labels=True,\n",
    "            node_color=['skyblue' if G.nodes[n]['type'] == 'warehouse' else 'lightgreen' for n in G.nodes],\n",
    "            node_size=2000, font_size=10, font_weight='bold', arrows=True)\n",
    "\n",
    "    edge_labels = nx.get_edge_attributes(G, 'weight')\n",
    "    nx.draw_networkx_edge_labels(G, pos, edge_labels=edge_labels)\n",
    "\n",
    "    plt.title(\"Transportation Network\")\n",
    "    plt.show()"
   ]
  },
  {
   "cell_type": "markdown",
   "id": "19bc8053-f9e8-4ce2-8eec-e20bdb2e2395",
   "metadata": {},
   "source": [
    "<div style=\"text-align: center;\">\n",
    "    <p style=\"font-size: 18px; margin-top: 10px; font-weight: bold;\">Distribution of Warehouses to Military Bases</p>\n",
    "    <p style=\"font-size: 16px; margin-top: 5px;\">The graph above illustrates the distribution of warehouses to each military base, showcasing the logistics involved in military supply chain optimization. This analysis is based on our supply chain optimization model utilizing the test example data.</p>\n",
    "<img src=\"pictures/graph_result.png\" alt=\"Military Logistics Distribution\" style=\"max-width: 80%; height: auto;\"/>\n",
    "</div>"
   ]
  },
  {
   "cell_type": "markdown",
   "id": "41e08546-afba-404b-968d-0fd8db2aebe9",
   "metadata": {},
   "source": [
    "## 7. **Creating a Map with Shipping Routes**"
   ]
  },
  {
   "cell_type": "markdown",
   "id": "a78d64e8-01af-4d28-864d-c91245a8b666",
   "metadata": {},
   "source": [
    "### 7.1 **`create_map` Function**\n",
    "   - **Purpose**: Uses `folium` to generate an interactive map showing the shipping routes between warehouses and retailers.\n",
    "   - **Details**:\n",
    "     - Warehouses and retailers are represented as markers.\n",
    "     - PolyLines represent the routes, with popup information showing the shipping cost.\n",
    "     - The map is saved as an HTML file."
   ]
  },
  {
   "cell_type": "code",
   "execution_count": 28,
   "id": "2dc72952-62ee-4951-938c-ab2268556127",
   "metadata": {},
   "outputs": [],
   "source": [
    "def create_map(shipping_vars: Dict[str, Dict[str, pulp.LpVariable]]):\n",
    "    map_center = [48.5, 35.5]  # Approximate center of the area\n",
    "    folium_map = folium.Map(location=map_center, zoom_start=6)\n",
    "\n",
    "    for warehouse in military_warehouses:\n",
    "        folium.Marker(\n",
    "            location=[data['Latitude'][military_warehouses.index(warehouse)], data['Longitude'][military_warehouses.index(warehouse)]],\n",
    "            popup=warehouse,\n",
    "            icon=folium.Icon(color='blue')\n",
    "        ).add_to(folium_map)\n",
    "\n",
    "    for r in retailers:\n",
    "        folium.Marker(\n",
    "            location=[data['Latitude'][len(military_warehouses) + retailers.index(r)],\n",
    "                      data['Longitude'][len(military_warehouses) + retailers.index(r)]],\n",
    "            popup=r,\n",
    "            icon=folium.Icon(color='green')\n",
    "        ).add_to(folium_map)\n",
    "\n",
    "        for w in military_warehouses:\n",
    "            if shipping_vars[w][r].varValue > 0:\n",
    "                folium.PolyLine(\n",
    "                    locations=[\n",
    "                        [data['Latitude'][military_warehouses.index(w)], data['Longitude'][military_warehouses.index(w)]],\n",
    "                        [data['Latitude'][len(military_warehouses) + retailers.index(r)],\n",
    "                         data['Longitude'][len(military_warehouses) + retailers.index(r)]]\n",
    "                    ],\n",
    "                    color='blue',\n",
    "                    weight=2.5,\n",
    "                    opacity=0.7\n",
    "                ).add_to(folium_map)\n",
    "\n",
    "                mid_lat = (data['Latitude'][military_warehouses.index(w)] + data['Latitude'][\n",
    "                    len(military_warehouses) + retailers.index(r)]) / 2\n",
    "                mid_lng = (data['Longitude'][military_warehouses.index(w)] + data['Longitude'][\n",
    "                    len(military_warehouses) + retailers.index(r)]) / 2\n",
    "                folium.Marker(\n",
    "                    location=[mid_lat, mid_lng],\n",
    "                    popup=f\"Cost: {costs[(w, r)]}\",\n",
    "                    icon=folium.DivIcon(html=f\"<div style='font-size: 12px; color: black;'>{costs[(w, r)]}</div>\")\n",
    "                ).add_to(folium_map)\n",
    "\n",
    "    folium_map.save('transportation_map_with_costs.html')\n",
    "    print(\"Map saved as 'transportation_map_with_costs.html'.\")"
   ]
  },
  {
   "cell_type": "markdown",
   "id": "d1749355-4d49-4cbe-8c92-0b2fe39dde14",
   "metadata": {},
   "source": [
    "<p>This map illustrates the distribution of warehouses and their associated transportation costs to various bases for test example data</p>\n",
    "    "
   ]
  },
  {
   "cell_type": "code",
   "execution_count": 36,
   "id": "44e42a0b-2501-4c79-a315-fdfcedaa8ec1",
   "metadata": {},
   "outputs": [
    {
     "data": {
      "text/html": [
       "\n",
       "<div style=\"text-align: center;\">\n",
       "    <iframe src=\"pictures/transportation_map_with_costs.html\" width=\"800\" height=\"600\" style=\"border: none;\"></iframe>\n",
       "</div>\n"
      ],
      "text/plain": [
       "<IPython.core.display.HTML object>"
      ]
     },
     "metadata": {},
     "output_type": "display_data"
    }
   ],
   "source": [
    "display(HTML(\"\"\"\n",
    "<div style=\"text-align: center;\">\n",
    "    <iframe src=\"pictures/transportation_map_with_costs.html\" width=\"800\" height=\"600\" style=\"border: none;\"></iframe>\n",
    "</div>\n",
    "\"\"\"))"
   ]
  },
  {
   "cell_type": "markdown",
   "id": "bef5e19c-6032-4731-b63d-f427fd5d98d9",
   "metadata": {},
   "source": [
    "### 8.1 **`main` Function**\n",
    "   - **Purpose**: Ties all the functions together to execute the full pipeline.\n",
    "   - **Steps**:\n",
    "     - Creates and solves the optimization model.\n",
    "     - Displays the results in the GUI.\n",
    "     - Visualizes the shipping quantities using pie charts.\n",
    "     - Visualizes the transportation network.\n",
    "     - Creates and saves the map with shipping routes."
   ]
  },
  {
   "cell_type": "code",
   "execution_count": 37,
   "id": "e75b09d6-0806-4a59-b45e-83bc47ecbb29",
   "metadata": {},
   "outputs": [],
   "source": [
    "def main():\n",
    "    model, shipping_vars = create_model()\n",
    "    solve_model(model)\n",
    "    display_results(model, shipping_vars)\n",
    "    visualize_shipping(shipping_vars)\n",
    "    visualize_network(shipping_vars)\n",
    "    create_map(shipping_vars)"
   ]
  },
  {
   "cell_type": "markdown",
   "id": "daf37dfd-88aa-46c8-bfbe-08c081687bd4",
   "metadata": {},
   "source": [
    "### 8.2 **Execution**\n",
    "   - If the script is run directly (`if __name__ == \"__main__\":`), the `main()` function is called to execute the entire process."
   ]
  },
  {
   "cell_type": "markdown",
   "id": "b33735af-fb35-4fcb-b464-35c309f0ab3b",
   "metadata": {},
   "source": [
    "```py\n",
    "if __name__ == \"__main__\":\n",
    "    main()\n",
    "```"
   ]
  },
  {
   "cell_type": "code",
   "execution_count": null,
   "id": "5bd63d15-1aad-4464-90bc-8f3173a6f17c",
   "metadata": {},
   "outputs": [],
   "source": []
  }
 ],
 "metadata": {
  "kernelspec": {
   "display_name": "Python 3 (ipykernel)",
   "language": "python",
   "name": "python3"
  },
  "language_info": {
   "codemirror_mode": {
    "name": "ipython",
    "version": 3
   },
   "file_extension": ".py",
   "mimetype": "text/x-python",
   "name": "python",
   "nbconvert_exporter": "python",
   "pygments_lexer": "ipython3",
   "version": "3.9.13"
  }
 },
 "nbformat": 4,
 "nbformat_minor": 5
}
